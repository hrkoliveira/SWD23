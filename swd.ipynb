{
  "nbformat": 4,
  "nbformat_minor": 0,
  "metadata": {
    "colab": {
      "provenance": [],
      "collapsed_sections": [
        "Pe7LrMaTimSm"
      ],
      "authorship_tag": "ABX9TyO22yNmJ43Msq40O5hdGs8J",
      "include_colab_link": true
    },
    "kernelspec": {
      "name": "python3",
      "display_name": "Python 3"
    },
    "language_info": {
      "name": "python"
    }
  },
  "cells": [
    {
      "cell_type": "markdown",
      "metadata": {
        "id": "view-in-github",
        "colab_type": "text"
      },
      "source": [
        "<a href=\"https://colab.research.google.com/github/hrkoliveira/SWD23/blob/main/swd.ipynb\" target=\"_parent\"><img src=\"https://colab.research.google.com/assets/colab-badge.svg\" alt=\"Open In Colab\"/></a>"
      ]
    },
    {
      "cell_type": "markdown",
      "source": [
        "# **Santander Dev Week 2023 (ETL com Python)**\n"
      ],
      "metadata": {
        "id": "0-Q-p76G7R3M"
      }
    },
    {
      "cell_type": "markdown",
      "source": [
        "# **Bibliotecas**"
      ],
      "metadata": {
        "id": "Ijo9GGokUrJP"
      }
    },
    {
      "cell_type": "code",
      "source": [
        "import pandas as pd\n",
        "import numpy as np\n",
        "import matplotlib.pyplot as plt\n",
        "import seaborn as sns\n",
        "import locale\n",
        "\n"
      ],
      "metadata": {
        "id": "lBtamoHkUvTu"
      },
      "execution_count": null,
      "outputs": []
    },
    {
      "cell_type": "markdown",
      "source": [
        "# **Explorar/Extrair dados**\n"
      ],
      "metadata": {
        "id": "Nj65orJZV1zW"
      }
    },
    {
      "cell_type": "code",
      "source": [
        "df = pd.read_csv('/content/amazon.csv') # Substitua 'nome_do_arquivo.csv' pelo nome real do seu arquivo\n"
      ],
      "metadata": {
        "id": "wmQhXtBGWCP-"
      },
      "execution_count": null,
      "outputs": []
    },
    {
      "cell_type": "markdown",
      "source": [
        "**Abaixo é possível extrair, explorar os dados e visualizar o que existem nessa planilha executando o código abaixo**."
      ],
      "metadata": {
        "id": "NK-upvmyZND1"
      }
    },
    {
      "cell_type": "code",
      "source": [
        "df.head()"
      ],
      "metadata": {
        "id": "Yhqke3wbZEAW"
      },
      "execution_count": null,
      "outputs": []
    },
    {
      "cell_type": "markdown",
      "source": [
        "# **Transformação de Dados**"
      ],
      "metadata": {
        "id": "SDgimIPKay43"
      }
    },
    {
      "cell_type": "markdown",
      "source": [
        "**Limpeza de dados**"
      ],
      "metadata": {
        "id": "y6ccbbVxa5dT"
      }
    },
    {
      "cell_type": "code",
      "source": [
        "##Portanto, o que esse código faz é remover todas as linhas do DataFrame df\n",
        "#que contêm pelo menos um valor nulo, e o DataFrame original é modificado diretamente\n",
        "#(por causa de inplace=True), ou pode usar False para salvar em novo arquivo.\n",
        "df.dropna(inplace=False)\n"
      ],
      "metadata": {
        "id": "LgBIvSudbBDO"
      },
      "execution_count": null,
      "outputs": []
    },
    {
      "cell_type": "code",
      "source": [
        "\n",
        "\n",
        "# Convertendo a coluna para string\n",
        "df['discounted_price'] = df['discounted_price'].astype(str)\n",
        "\n",
        "# Remover símbolo ₹ e outros caracteres não numéricos\n",
        "df['discounted_price'] = df['discounted_price'].str.replace('[^\\d.]', '', regex=True)\n",
        "\n",
        "# Agora, converter para float\n",
        "df['discounted_price'] = pd.to_numeric(df['discounted_price'])\n",
        "\n",
        "# Formatando os valores como moeda brasileira\n",
        "df['discounted_price'] = 'R$' + df['discounted_price'].astype(str)\n",
        "\n",
        "\n",
        "df.head()"
      ],
      "metadata": {
        "id": "dourQCECcE12"
      },
      "execution_count": null,
      "outputs": []
    },
    {
      "cell_type": "markdown",
      "source": [
        "# **Load/Carregar Dados**"
      ],
      "metadata": {
        "id": "Pe7LrMaTimSm"
      }
    },
    {
      "cell_type": "code",
      "source": [
        "# com o código abaixo será criado um novo arquivo com as modificações realizadas.\n",
        "df.to_csv('dados_transformados.csv', index=False)\n",
        "df.head()"
      ],
      "metadata": {
        "id": "ykYTKUc_iuGV"
      },
      "execution_count": null,
      "outputs": []
    }
  ]
}